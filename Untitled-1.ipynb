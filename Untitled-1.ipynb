{
 "cells": [
  {
   "cell_type": "markdown",
   "metadata": {},
   "source": [
    "# Homework 6: Part I\n",
    "\n",
    "1. Go get data from kaggle.com and do a ***(Univariate) Bayesian Logistic Regression*** analysis\n",
    "\n",
    "2. Adjust the code below to specify that the outcomes have a Bernoulli distribution and use a ***logit*** or ***probit link function*** (or $\\Pr(z\\leq 0)$ for latent $z$ ) to correctly paramterize the predicted values of the observed outcomes \n",
    "\n",
    "```python\n",
    "import pymc as pm; import numpy as np\n",
    "n,p=100,10; X,y=np.zeros((n,p)),np.ones((n,1))\n",
    "# Replace this made up data with your data set from kaggle...\n",
    "with pm.Model() as MLR:\n",
    "    betas = pm.MvNormal('betas', mu=np.zeros((p,1)), cov=np.eye(p), shape=(p,1))\n",
    "    sigma = pm.TruncatedNormal('sigma', mu=1, sigma=1, lower=0) # half normal\n",
    "    y = pm.Normal('y', mu=pm.math.dot(X, betas), sigma=sigma, observed=y)\n",
    "\n",
    "with MLR:\n",
    "    idata = pm.sample()\n",
    "```    \n",
    "\n",
    "3. Choose ***prior*** that are sensible for your specification \n",
    "\n",
    "4. [Optional] Assess the performance of the MCMC and any issues or warnings in the [standard manner] (https://www.pymc.io/projects/docs/en/stable/learn/core_notebooks/pymc_overview.html#pymc-overview)\n",
    "\n",
    "\n",
    "4. [Optional] Go get data from kaggle.com and do a ***Multivariate Bayesian Logistic Regression*** analysis"
   ]
  },
  {
   "cell_type": "code",
   "execution_count": 148,
   "metadata": {},
   "outputs": [],
   "source": [
    "import pandas as pd\n",
    "import numpy as np\n",
    "from scipy import stats\n",
    "import matplotlib.pyplot as plt \n",
    "import pymc as pm\n",
    "import arviz as az\n"
   ]
  },
  {
   "cell_type": "markdown",
   "metadata": {},
   "source": []
  },
  {
   "cell_type": "code",
   "execution_count": 147,
   "metadata": {},
   "outputs": [
    {
     "data": {
      "text/html": [
       "<div>\n",
       "<style scoped>\n",
       "    .dataframe tbody tr th:only-of-type {\n",
       "        vertical-align: middle;\n",
       "    }\n",
       "\n",
       "    .dataframe tbody tr th {\n",
       "        vertical-align: top;\n",
       "    }\n",
       "\n",
       "    .dataframe thead th {\n",
       "        text-align: right;\n",
       "    }\n",
       "</style>\n",
       "<table border=\"1\" class=\"dataframe\">\n",
       "  <thead>\n",
       "    <tr style=\"text-align: right;\">\n",
       "      <th></th>\n",
       "      <th>Ones</th>\n",
       "      <th>open</th>\n",
       "      <th>high</th>\n",
       "      <th>low</th>\n",
       "      <th>volume</th>\n",
       "      <th>change_percent</th>\n",
       "    </tr>\n",
       "  </thead>\n",
       "  <tbody>\n",
       "    <tr>\n",
       "      <th>0</th>\n",
       "      <td>1</td>\n",
       "      <td>1.26666</td>\n",
       "      <td>1.66666</td>\n",
       "      <td>1.16934</td>\n",
       "      <td>281749173</td>\n",
       "      <td>0.26</td>\n",
       "    </tr>\n",
       "    <tr>\n",
       "      <th>1</th>\n",
       "      <td>1</td>\n",
       "      <td>1.71934</td>\n",
       "      <td>2.02794</td>\n",
       "      <td>1.55334</td>\n",
       "      <td>257915884</td>\n",
       "      <td>-0.25</td>\n",
       "    </tr>\n",
       "    <tr>\n",
       "      <th>2</th>\n",
       "      <td>1</td>\n",
       "      <td>1.66666</td>\n",
       "      <td>1.72800</td>\n",
       "      <td>1.35134</td>\n",
       "      <td>123447940</td>\n",
       "      <td>-7.85</td>\n",
       "    </tr>\n",
       "    <tr>\n",
       "      <th>3</th>\n",
       "      <td>1</td>\n",
       "      <td>1.53334</td>\n",
       "      <td>1.54000</td>\n",
       "      <td>1.24734</td>\n",
       "      <td>77127102</td>\n",
       "      <td>-12.57</td>\n",
       "    </tr>\n",
       "    <tr>\n",
       "      <th>4</th>\n",
       "      <td>1</td>\n",
       "      <td>1.33334</td>\n",
       "      <td>1.33334</td>\n",
       "      <td>1.05534</td>\n",
       "      <td>103189435</td>\n",
       "      <td>-16.09</td>\n",
       "    </tr>\n",
       "  </tbody>\n",
       "</table>\n",
       "</div>"
      ],
      "text/plain": [
       "   Ones     open     high      low     volume  change_percent\n",
       "0     1  1.26666  1.66666  1.16934  281749173            0.26\n",
       "1     1  1.71934  2.02794  1.55334  257915884           -0.25\n",
       "2     1  1.66666  1.72800  1.35134  123447940           -7.85\n",
       "3     1  1.53334  1.54000  1.24734   77127102          -12.57\n",
       "4     1  1.33334  1.33334  1.05534  103189435          -16.09"
      ]
     },
     "execution_count": 147,
     "metadata": {},
     "output_type": "execute_result"
    }
   ],
   "source": [
    "# Preparing our data\n",
    "data_set = pd.read_csv('/Users/chengfengzhang/Downloads/archive/tsla_split_adjusted.csv', engine='pyarrow')\n",
    "\n",
    "#Abstract our Observation Y and construct variable dataframe\n",
    "Observation = (data_set['close'] > data_set['open']).astype(int)\n",
    "data_set=data_set.drop([\"avg_vol_20d\",\"date\",\"raw_close\",'close'],axis=1)\n",
    "data_set.head()\n",
    "data_set.loc[data_set.index[0],'change_percent']= 0.26\n",
    "data_set.insert(0,'Ones',1)\n",
    "data_set.head()"
   ]
  },
  {
   "cell_type": "markdown",
   "metadata": {},
   "source": [
    "fig, ax = plt.subplots()\n",
    "\n",
    "ax.plot(data_set[\"open\"], babies[\"high\"], 'C0.', alpha=0.1)\n",
    "ax.set_ylabel(\"Length\")\n",
    "ax.set_xlabel(\"Month\");\n",
    "plt.savefig('img/chp04/baby_length_scatter.png', dpi=300)"
   ]
  },
  {
   "cell_type": "code",
   "execution_count": 128,
   "metadata": {},
   "outputs": [
    {
     "name": "stderr",
     "output_type": "stream",
     "text": [
      "Auto-assigning NUTS sampler...\n",
      "Initializing NUTS using jitter+adapt_diag...\n",
      "Multiprocess sampling (4 chains in 4 jobs)\n",
      "NUTS: [betas]\n"
     ]
    },
    {
     "data": {
      "text/html": [
       "\n",
       "    <div>\n",
       "        <style>\n",
       "            /* Turns off some styling */\n",
       "            progress {\n",
       "                /* gets rid of default border in Firefox and Opera. */\n",
       "                border: none;\n",
       "                /* Needs to be in here for Safari polyfill so background images work as expected. */\n",
       "                background-size: auto;\n",
       "            }\n",
       "            .progress-bar-interrupted, .progress-bar-interrupted::-webkit-progress-bar {\n",
       "                background: #F44336;\n",
       "            }\n",
       "        </style>\n",
       "      <progress value='8000' class='' max='8000' style='width:300px; height:20px; vertical-align: middle;'></progress>\n",
       "      100.00% [8000/8000 1:21:46<00:00 Sampling 4 chains, 3,996 divergences]\n",
       "    </div>\n",
       "    "
      ],
      "text/plain": [
       "<IPython.core.display.HTML object>"
      ]
     },
     "metadata": {},
     "output_type": "display_data"
    },
    {
     "name": "stderr",
     "output_type": "stream",
     "text": [
      "/Users/chengfengzhang/anaconda3/lib/python3.11/site-packages/pytensor/scalar/basic.py:1998: RuntimeWarning: invalid value encountered in divide\n",
      "  return x / y\n",
      "/Users/chengfengzhang/anaconda3/lib/python3.11/site-packages/pytensor/scalar/basic.py:1998: RuntimeWarning: invalid value encountered in divide\n",
      "  return x / y\n",
      "/Users/chengfengzhang/anaconda3/lib/python3.11/site-packages/pytensor/scalar/basic.py:1998: RuntimeWarning: invalid value encountered in divide\n",
      "  return x / y\n",
      "/Users/chengfengzhang/anaconda3/lib/python3.11/site-packages/pytensor/scalar/basic.py:1998: RuntimeWarning: invalid value encountered in divide\n",
      "  return x / y\n",
      "Sampling 4 chains for 1_000 tune and 1_000 draw iterations (4_000 + 4_000 draws total) took 4907 seconds.\n",
      "/Users/chengfengzhang/anaconda3/lib/python3.11/site-packages/arviz/utils.py:185: NumbaDeprecationWarning: \u001b[1mThe keyword argument 'nopython=False' was supplied. From Numba 0.59.0 the default is being changed to True and use of 'nopython=False' will raise a warning as the argument will have no effect. See https://numba.readthedocs.io/en/stable/reference/deprecation.html#deprecation-of-object-mode-fall-back-behaviour-when-using-jit for details.\u001b[0m\n",
      "  numba_fn = numba.jit(**self.kwargs)(self.function)\n",
      "The rhat statistic is larger than 1.01 for some parameters. This indicates problems during sampling. See https://arxiv.org/abs/1903.08008 for details\n",
      "The effective sample size per chain is smaller than 100 for some parameters.  A higher number is needed for reliable rhat and ess computation. See https://arxiv.org/abs/1903.08008 for details\n",
      "There were 3996 divergences after tuning. Increase `target_accept` or reparameterize.\n"
     ]
    }
   ],
   "source": [
    "x,y=data_set,Observation\n",
    "n,p=x.shape\n",
    "\n",
    "with pm.Model() as ULR:\n",
    "    \n",
    "    betas = pm.MvNormal('betas', mu=np.zeros(p), cov=np.eye(p), shape=(p))\n",
    "    linear_predic = pm.math.dot(x, betas)\n",
    "    likelihood = pm.math.sigmoid(linear_predic)\n",
    "    y = pm.Bernoulli('logit', p=likelihood, observed=y)\n",
    "\n",
    "with ULR:\n",
    "    idata = pm.sample()\n",
    "    "
   ]
  }
 ],
 "metadata": {
  "kernelspec": {
   "display_name": "base",
   "language": "python",
   "name": "python3"
  },
  "language_info": {
   "codemirror_mode": {
    "name": "ipython",
    "version": 3
   },
   "file_extension": ".py",
   "mimetype": "text/x-python",
   "name": "python",
   "nbconvert_exporter": "python",
   "pygments_lexer": "ipython3",
   "version": "3.11.4"
  }
 },
 "nbformat": 4,
 "nbformat_minor": 2
}
